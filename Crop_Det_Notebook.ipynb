{
 "cells": [
  {
   "cell_type": "code",
   "execution_count": 8,
   "metadata": {},
   "outputs": [],
   "source": [
    "#Imports\n",
    "\n",
    "import numpy as np\n",
    "import matplotlib.pyplot as plt\n",
    "import cv2\n",
    "import extcolors\n",
    "import skimage\n",
    "import scipy\n",
    "from PIL import Image\n",
    "import math\n",
    "import skimage\n",
    "from sklearn.linear_model import LinearRegression\n",
    "import pandas as pd\n",
    "from colormap import rgb2hex\n",
    "import numpy as np\n",
    "import cv2\n",
    "import os\n",
    "\n",
    "VID = 0\n",
    "SING_IMG = 1\n",
    "mode = VID"
   ]
  },
  {
   "cell_type": "code",
   "execution_count": 18,
   "metadata": {},
   "outputs": [],
   "source": [
    "# READ AND NORMALIZE IMAGES\n",
    "def obtain_name_images(image_folder):\n",
    "    \"\"\"\n",
    "    input : name of the folder with the images\n",
    "    output : name of the files to be open\n",
    "    \"\"\"\n",
    "    lst = os.listdir(image_folder)\n",
    "    lst.sort()\n",
    "    name_images = [img for img in lst \n",
    "                if img.endswith(\".jpg\") or\n",
    "                    img.endswith(\".jpeg\") or\n",
    "                    img.endswith(\"png\")]\n",
    "\n",
    "    return name_images \n",
    "\n",
    "def obtain_images(name_images, image_folder, mode):\n",
    "    \"\"\"\n",
    "    input : name and foler of the images location\n",
    "    returns : list containing all the images in the folder\n",
    "    \"\"\"\n",
    "    imgs = []\n",
    "    if mode == VID : \n",
    "        for name in name_images:\n",
    "            img = cv2.imread(os.path.join(image_folder, name))\n",
    "            if img is not None : \n",
    "                img_rgb = cv2.cvtColor(img, cv2.COLOR_BGR2RGB)\n",
    "                img_small = img_resize(img_rgb)\n",
    "                imgs.append(img_small)\n",
    "\n",
    "    if mode == SING_IMG :\n",
    "        print('image read : ', os.path.join(image_folder, name_images))\n",
    "        img = cv2.imread(os.path.join(image_folder, name_images))\n",
    "        if img is not None : \n",
    "            img_small = img_resize(img)\n",
    "            imgs.append(img_small)\n",
    "        else : \n",
    "            print('no image read')\n",
    "\n",
    "    if (len(imgs) != 0) : \n",
    "        return imgs\n",
    "    \n",
    "    return None\n",
    "\n",
    "\n",
    "def img_resize(img, output_width = 900):\n",
    "    \"\"\"\n",
    "    input : image\n",
    "    output : resized image\n",
    "    \"\"\"\n",
    "    wpercent = (output_width/float(img.shape[1]))\n",
    "    hsize = int((float(img.shape[0])*float(wpercent)))\n",
    "    img = cv2.resize(img, (output_width,hsize), interpolation = cv2.INTER_AREA) \n",
    "    #this resize makes the video not work??\n",
    "\n",
    "    return img"
   ]
  },
  {
   "cell_type": "code",
   "execution_count": 19,
   "metadata": {},
   "outputs": [],
   "source": [
    "#Open and normalize image(s)\n",
    "\n",
    "if mode == SING_IMG:\n",
    "    image_folder = '/home/roxane/Desktop/M3_2022/Caterra/dataset_straigt_lines'\n",
    "    name_images = 'crop_row_023.JPG'\n",
    "    sing_image = obtain_images(name_images, image_folder, SING_IMG)[0]\n",
    "    sing_image = cv2.cvtColor(sing_image, cv2.COLOR_BGR2RGB)\n",
    "    plt.imshow(sing_image)\n",
    "\n",
    "if mode == VID:\n",
    "    vid_folder = '/home/roxane/Desktop/M3_2022/USB/Realsense_18-08-2022_10-46-58/'\n",
    "    video_name = 'CropDetectionVID.avi'\n",
    "    os.chdir(\"/home/roxane/Desktop/M3_2022/Caterra/vid_assembled\")\n",
    "    name_images = obtain_name_images(vid_folder)\n",
    "    images = obtain_images(name_images,vid_folder, mode)"
   ]
  },
  {
   "cell_type": "code",
   "execution_count": 17,
   "metadata": {},
   "outputs": [
    {
     "data": {
      "text/plain": [
       "900"
      ]
     },
     "execution_count": 17,
     "metadata": {},
     "output_type": "execute_result"
    }
   ],
   "source": [
    "np.shape(images[3])[1]"
   ]
  },
  {
   "cell_type": "code",
   "execution_count": null,
   "metadata": {},
   "outputs": [],
   "source": []
  }
 ],
 "metadata": {
  "kernelspec": {
   "display_name": "Python 3",
   "language": "python",
   "name": "python3"
  },
  "language_info": {
   "codemirror_mode": {
    "name": "ipython",
    "version": 3
   },
   "file_extension": ".py",
   "mimetype": "text/x-python",
   "name": "python",
   "nbconvert_exporter": "python",
   "pygments_lexer": "ipython3",
   "version": "3.8.10"
  },
  "orig_nbformat": 4,
  "vscode": {
   "interpreter": {
    "hash": "916dbcbb3f70747c44a77c7bcd40155683ae19c65e1c03b4aa3499c5328201f1"
   }
  }
 },
 "nbformat": 4,
 "nbformat_minor": 2
}
