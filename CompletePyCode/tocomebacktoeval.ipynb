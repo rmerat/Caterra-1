{
 "cells": [
  {
   "cell_type": "code",
   "execution_count": 6,
   "metadata": {},
   "outputs": [],
   "source": [
    "import numpy as np\n",
    "import cv2\n",
    "import PerImageProcessing\n",
    "import MaskingProcess\n",
    "import Evaluation\n",
    "import random\n",
    "\n",
    "\n",
    "VID = 0\n",
    "SING_IMG = 1\n",
    "INI_PROCESS = 0\n",
    "SPEED_PROCESS = 1\n",
    "FINAL_PROCESS = 2\n",
    "\n",
    "def detection_process(img, mode, name_images, nb_row = 6, sky = 1, vp_on = 1):\n",
    "    \"\"\"\n",
    "    input : list of img to be analyzed in rgb format\n",
    "    output : not yet defined, prob data + flag set to one if analyzing went smoothly \n",
    "    \"\"\"\n",
    "    imgs_annotated = []\n",
    "    imgs_crops_only = []\n",
    "    stage = INI_PROCESS\n",
    "    vp_pt = 0\n",
    "    idx = 0\n",
    "\n",
    "    if stage == INI_PROCESS: #longer but needed to create initial mask of images \n",
    "        print('initial process...')\n",
    "        hough_img, arr_mask, col_best_mask, vp_pt = PerImageProcessing.Initial_Process(img, nb_row = nb_row, sky = sky)\n",
    "        if (idx == 0):\n",
    "            height_original = img.shape[0]\n",
    "        cv2.imshow('img hough_img: ', cv2.cvtColor(hough_img, cv2.COLOR_RGB2BGR))\n",
    "        height, _, = arr_mask[0].shape\n",
    "        stage = SPEED_PROCESS\n",
    "        print('...speed process...')\n",
    "    \n",
    "    if stage == SPEED_PROCESS: #quick, use of ransac \n",
    "        img = img[height_original-height:,:,:]\n",
    "        arr_mask, img_annotated, vp_pt, cond_speed, img_crops_only, pts1, pts2 = PerImageProcessing.speed_process_lines(img, col_best_mask, arr_mask, vp_pt, vp_on=vp_on)\n",
    "        \n",
    "        imgs_annotated.append(img_annotated)\n",
    "        imgs_crops_only.append(img_crops_only)\n",
    "        r_acc, th_acc,threshold_acc = MaskingProcess.get_r_theta(pts1, pts2)\n",
    "            \n",
    "        vp_pt, _ = MaskingProcess.VP_detection(th_acc, r_acc, threshold_acc, stage)\n",
    "        vp_pt = np.asarray(vp_pt)\n",
    "                            \n",
    "   \n",
    "        if(mode == SING_IMG):\n",
    "            cv2.imshow('crop only : ', img_crops_only)\n",
    "            cv2.imshow('img annotated: ', img_annotated)\n",
    "\n",
    "            cv2.waitKey(0)\n",
    "        stage = INI_PROCESS\n",
    "\n",
    "    stage = FINAL_PROCESS\n",
    "\n",
    "\n",
    "    if stage == FINAL_PROCESS : #save data and evaluate it \n",
    "        print('...processing done!')\n",
    "        if(mode ==SING_IMG):\n",
    "            crop_only = Evaluation.SaveData(img_crops_only, pts1, pts2)\n",
    "            cop, cv, dv, v0, array_GT = Evaluation.LoadGroundTruth(name_images, img_annotated)\n",
    "            score, precision = Evaluation.evaluate_results(cv, dv, v0, array_GT, nb_crop_row=nb_row)\n",
    "            cv2.imshow('My Results : ', cv2.cvtColor(cop, cv2.COLOR_RGB2BGR))\n",
    "            cv2.waitKey(0)\n",
    "            if cv2.waitKey(1) == ord('q'):\n",
    "                cv2.destroyAllWindows()\n",
    "\n",
    "    return score #return something en rapport avec le bon acheminement du process\n",
    "\n",
    "def main_process():\n",
    "    sky_on = 1\n",
    "    mode = SING_IMG\n",
    "    #first, get the name of the files we are going to analyze\n",
    "\n",
    "\n",
    "    if (mode == SING_IMG): \n",
    "        imgs_folder = '/home/roxane/Desktop/M3_2022/Caterra/dataset_straigt_lines' # '/home/roxane/Desktop/M3_2022/USB/Realsense_18-08-2022_10-46-58/' \n",
    "        name_images = 'crop_row_256.JPG' #'rgb000.jpg' # crop_row_001, crop_row_020, crop_row_053\n",
    "    sky_on = 0\n",
    "    nb_row = 5\n",
    "    vp_on = 1\n",
    "\n",
    "    # open and resize images for consistency --> returns img in rgb format\n",
    "    images = MaskingProcess.obtain_images(name_images,imgs_folder, mode)\n",
    "\n",
    "    # Main Detection function \n",
    "    score = detection_process(img, mode, name_images, nb_row = nb_row, sky = sky_on, vp_on = vp_on)\n",
    "    print('score : ', score)\n",
    "\n",
    "        "
   ]
  },
  {
   "cell_type": "code",
   "execution_count": 7,
   "metadata": {},
   "outputs": [
    {
     "name": "stdout",
     "output_type": "stream",
     "text": [
      "image read :  /home/roxane/Desktop/M3_2022/Caterra/dataset_straigt_lines/crop_row_256.JPG\n",
      "initial process...\n",
      "the best color is : rgb  [145 180  88] hex :  #91B458\n",
      "step  1 of  6\n",
      "step  2 of  6\n",
      "step  3 of  6\n",
      "step  4 of  6\n",
      "step  5 of  6\n",
      "step  6 of  6\n",
      "is it outlier = eps max, var 1.3269720143536574 1.1423088376505246\n",
      "no outliers lines\n",
      "...speed process...\n",
      "...processing done!\n",
      "score :  0.8905115764796386\n",
      "score :  0.8905115764796386\n"
     ]
    },
    {
     "ename": "",
     "evalue": "",
     "output_type": "error",
     "traceback": [
      "\u001b[1;31mThe Kernel crashed while executing code in the the current cell or a previous cell. Please review the code in the cell(s) to identify a possible cause of the failure. Click <a href='https://aka.ms/vscodeJupyterKernelCrash'>here</a> for more info. View Jupyter <a href='command:jupyter.viewOutput'>log</a> for further details."
     ]
    }
   ],
   "source": [
    "main_process()\n",
    "\n",
    "    if (mode == VID):\n",
    "        #distinguer entre mode video et mode single image?\n",
    "        imgs_folder = '/home/roxane/Desktop/M3_2022/USB/Realsense_18-08-2022_10-46-58/'\n",
    "        name_images = MaskingProcess.obtain_name_images(imgs_folder)\n",
    "        sky_on = 1\n",
    "        nb_row = 5\n",
    "        vp_on = 1"
   ]
  },
  {
   "cell_type": "code",
   "execution_count": null,
   "metadata": {},
   "outputs": [],
   "source": []
  },
  {
   "cell_type": "code",
   "execution_count": null,
   "metadata": {},
   "outputs": [],
   "source": []
  }
 ],
 "metadata": {
  "kernelspec": {
   "display_name": "Python 3",
   "language": "python",
   "name": "python3"
  },
  "language_info": {
   "codemirror_mode": {
    "name": "ipython",
    "version": 3
   },
   "file_extension": ".py",
   "mimetype": "text/x-python",
   "name": "python",
   "nbconvert_exporter": "python",
   "pygments_lexer": "ipython3",
   "version": "3.8.10 (default, Nov 14 2022, 12:59:47) \n[GCC 9.4.0]"
  },
  "orig_nbformat": 4,
  "vscode": {
   "interpreter": {
    "hash": "916dbcbb3f70747c44a77c7bcd40155683ae19c65e1c03b4aa3499c5328201f1"
   }
  }
 },
 "nbformat": 4,
 "nbformat_minor": 2
}
